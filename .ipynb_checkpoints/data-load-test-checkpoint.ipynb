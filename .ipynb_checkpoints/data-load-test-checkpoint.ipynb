{
 "cells": [
  {
   "cell_type": "code",
   "execution_count": 16,
   "metadata": {
    "collapsed": false
   },
   "outputs": [
    {
     "data": {
      "text/plain": [
       "['supermarkets-semi-colons.txt',\n",
       " 'supermarkets-commas.txt',\n",
       " 'supermarkets.xlsx',\n",
       " 'supermarkets.json',\n",
       " 'Testings.ipynb',\n",
       " 'supermarkets.csv',\n",
       " 'data-load-test.ipynb',\n",
       " '.ipynb_checkpoints',\n",
       " '.git']"
      ]
     },
     "execution_count": 16,
     "metadata": {},
     "output_type": "execute_result"
    }
   ],
   "source": [
    "import os #imports standard library functions, operating system calls\n",
    "os.listdir() #listdir outputs current directory contents\n",
    "\n",
    "import pandas as pd\n",
    "supermarkets_csv = pd.read_csv('supermarkets.csv')\n",
    "print(supermarkets_csv)\n",
    "\n",
    "supermarkets_json = pd.read_json('supermarkets.json')\n",
    "print(supermarkets_json)\n",
    "\n",
    "supermarkets_xlsx = pd.read_excel('supermarkets.xlsx')\n",
    "print(supermarkets_xlsx)\n",
    "\n",
    "supermarkets_commas_txt = pd.read_csv('supermarkets-commas.txt')\n",
    "print(supermarkets_commas_txt)\n",
    "\n",
    "supermarkets_semi_colons_txt = pd.read_csv('supermarkets-semi-colons.txt')\n",
    "print(supermarkets_semi_colons_txt)"
   ]
  }
 ],
 "metadata": {
  "anaconda-cloud": {},
  "kernelspec": {
   "display_name": "Python [conda root]",
   "language": "python",
   "name": "conda-root-py"
  },
  "language_info": {
   "codemirror_mode": {
    "name": "ipython",
    "version": 3
   },
   "file_extension": ".py",
   "mimetype": "text/x-python",
   "name": "python",
   "nbconvert_exporter": "python",
   "pygments_lexer": "ipython3",
   "version": "3.5.2"
  }
 },
 "nbformat": 4,
 "nbformat_minor": 1
}
