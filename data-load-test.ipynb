{
 "cells": [
  {
   "cell_type": "code",
   "execution_count": 12,
   "metadata": {
    "collapsed": false
   },
   "outputs": [
    {
     "name": "stdout",
     "output_type": "stream",
     "text": [
      "   ID          Address           City             State Country         Name  \\\n",
      "0   1     3666 21st St  San Francisco          CA 94114     USA      Madeira   \n",
      "1   2   735 Dolores St  San Francisco          CA 94119     USA  Bready Shop   \n",
      "2   3      332 Hill St  San Francisco  California 94114     USA  Super River   \n",
      "3   4     3995 23rd St  San Francisco          CA 94114     USA   Ben's Shop   \n",
      "4   5  1056 Sanchez St  San Francisco        California     USA      Sanchez   \n",
      "5   6  551 Alvarado St  San Francisco          CA 94114     USA   Richvalley   \n",
      "\n",
      "   Employees  \n",
      "0          8  \n",
      "1         15  \n",
      "2         25  \n",
      "3         10  \n",
      "4         12  \n",
      "5         20  \n",
      "           Address           City Country  Employees  ID         Name  \\\n",
      "0     3666 21st St  San Francisco     USA          8   1      Madeira   \n",
      "1   735 Dolores St  San Francisco     USA         15   2  Bready Shop   \n",
      "2      332 Hill St  San Francisco     USA         25   3  Super River   \n",
      "3     3995 23rd St  San Francisco     USA         10   4   Ben's Shop   \n",
      "4  1056 Sanchez St  San Francisco     USA         12   5      Sanchez   \n",
      "5  551 Alvarado St  San Francisco     USA         20   6   Richvalley   \n",
      "\n",
      "              State  \n",
      "0          CA 94114  \n",
      "1          CA 94119  \n",
      "2  California 94114  \n",
      "3          CA 94114  \n",
      "4        California  \n",
      "5          CA 94114  \n",
      "   ID          Address           City             State Country  \\\n",
      "0   1     3666 21st St  San Francisco          CA 94114     USA   \n",
      "1   2   735 Dolores St  San Francisco          CA 94119     USA   \n",
      "2   3      332 Hill St  San Francisco  California 94114     USA   \n",
      "3   4     3995 23rd St  San Francisco          CA 94114     USA   \n",
      "4   5  1056 Sanchez St  San Francisco        California     USA   \n",
      "5   6  551 Alvarado St  San Francisco          CA 94114     USA   \n",
      "\n",
      "  Supermarket Name  Number of Employees  \n",
      "0          Madeira                    8  \n",
      "1      Bready Shop                   15  \n",
      "2      Super River                   25  \n",
      "3       Ben's Shop                   10  \n",
      "4          Sanchez                   12  \n",
      "5       Richvalley                   20  \n",
      "   ID          Address           City             State Country         Name  \\\n",
      "0   1     3666 21st St  San Francisco          CA 94114     USA      Madeira   \n",
      "1   2   735 Dolores St  San Francisco          CA 94119     USA  Bready Shop   \n",
      "2   3      332 Hill St  San Francisco  California 94114     USA  Super River   \n",
      "3   4     3995 23rd St  San Francisco          CA 94114     USA   Ben's Shop   \n",
      "4   5  1056 Sanchez St  San Francisco        California     USA      Sanchez   \n",
      "5   6  551 Alvarado St  San Francisco          CA 94114     USA   Richvalley   \n",
      "\n",
      "   Employees  \n",
      "0          8  \n",
      "1         15  \n",
      "2         25  \n",
      "3         10  \n",
      "4         12  \n",
      "5         20  \n",
      "        ID;Address;City;State;Country;Name;Employees\n",
      "0  1;3666 21st St;San Francisco;CA 94114;USA;Made...\n",
      "1  2;735 Dolores St;San Francisco;CA 94119;USA;Br...\n",
      "2  3;332 Hill St;San Francisco;California 94114;U...\n",
      "3  4;3995 23rd St;San Francisco;CA 94114;USA;Ben'...\n",
      "4  5;1056 Sanchez St;San Francisco;California;USA...\n",
      "5  6;551 Alvarado St;San Francisco;CA 94114;USA;R...\n"
     ]
    }
   ],
   "source": [
    "import pandas as pd\n",
    "supermarkets_csv = pd.read_csv('supermarkets.csv')\n",
    "print(supermarkets_csv)\n",
    "\n",
    "supermarkets_json = pd.read_json('supermarkets.json')\n",
    "print(supermarkets_json)\n",
    "\n",
    "supermarkets_xlsx = pd.read_excel('supermarkets.xlsx')\n",
    "print(supermarkets_xlsx)\n",
    "\n",
    "supermarkets_commas_txt = pd.read_csv('supermarkets-commas.txt')\n",
    "print(supermarkets_commas_txt)\n",
    "\n",
    "supermarkets_semi_colons_txt = pd.read_csv('supermarkets-semi-colons.txt')\n",
    "print(supermarkets_semi_colons_txt)"
   ]
  }
 ],
 "metadata": {
  "anaconda-cloud": {},
  "kernelspec": {
   "display_name": "Python [conda root]",
   "language": "python",
   "name": "conda-root-py"
  },
  "language_info": {
   "codemirror_mode": {
    "name": "ipython",
    "version": 3
   },
   "file_extension": ".py",
   "mimetype": "text/x-python",
   "name": "python",
   "nbconvert_exporter": "python",
   "pygments_lexer": "ipython3",
   "version": "3.5.2"
  }
 },
 "nbformat": 4,
 "nbformat_minor": 1
}
